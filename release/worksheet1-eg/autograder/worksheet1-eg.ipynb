{
 "cells": [
  {
   "cell_type": "markdown",
   "metadata": {},
   "source": [
    "## Worksheet 1\n",
    "\n",
    "Welcome to worksheet 1! This worksheet was designed to allow you to practice what was covered in the assigned readings & lectures/videos/recordings. The labs problems will be more challenging then those in the worksheet, and the worksheet questions will help prepare you for them. Time will be provided to work on the worksheets in small groups during lecture, however it is not expected that you will complete the worksheet in this time. You are expected to spend some indpendent time working on the worksheet after lecture. \n",
    "\n",
    "**Worksheets are due on Saturdays at 6pm, and must be submitted as `.ipynb` files to Gradescope.**"
   ]
  },
  {
   "cell_type": "markdown",
   "metadata": {},
   "source": [
    "### Getting your homework (i.e., worksheet and lab repositories) from GitHub.ubc.ca onto MDS's JuypterHub\n",
    "\n",
    "Watch the video titled \"Downloading the lab assignment from GitHub to JupyterLab\" from DSCI 521, accessible here: https://canvas.ubc.ca/courses/53662/external_tools/187 "
   ]
  },
  {
   "cell_type": "markdown",
   "metadata": {},
   "source": [
    "### Worksheet mechanics\n",
    "rubric={mechanics:1}\n",
    "\n",
    "- You submit a `.ipynb` version of this homework to Gradescope.\n",
    "- **There is autograding in this lab, so please do not move or rename this file or the `test_worksheet1.R` file. Also, do not copy and paste cells, if you need to add new cells, create new cells via the \"Insert a cell below\" button instead.**"
   ]
  },
  {
   "cell_type": "markdown",
   "metadata": {},
   "source": [
    "Run the cell below to load the libraries needed for this worksheet, as well as the test file so you can check your answers as you go!"
   ]
  },
  {
   "cell_type": "code",
   "execution_count": null,
   "metadata": {},
   "outputs": [],
   "source": [
    "library(tidyverse)\n",
    "library(readxl)\n",
    "library(testthat)\n",
    "options(repr.matrix.max.rows = 10)"
   ]
  },
  {
   "cell_type": "markdown",
   "metadata": {},
   "source": [
    "# 1.0 Reading data into R\n",
    "\n",
    "Before you can do any data analysis, you need to load your data into R! Thus we will spend some time practicing how to get these types of files into R! \n",
    "\n",
    "> The data we will use to explore this is the Palmer penguins data set! In this data set there are measures on the three species of penguins shown in this illustration below. You can learn more about the penguins and this data set [here](https://allisonhorst.github.io/palmerpenguins/). \n",
    "> <img src=\"https://github.com/allisonhorst/palmerpenguins/blob/master/man/figures/lter_penguins.png?raw=true\" width=600>\n",
    ">\n",
    "> Illustration by [Allison Horst](https://www.allisonhorst.com/)"
   ]
  },
  {
   "cell_type": "markdown",
   "metadata": {},
   "source": [
    "### Reading in local files\n",
    "\n",
    "In the `data` directory of this repository we have provided you with 5 different versions of the same data set in different file formats. Your task is to read each of these into R using an appropriate function. \n",
    "\n",
    "As in lecture, we highly recommend using the `readr::read*` functions in comparison to the base R `read.*` functions because of performance. *Note - for excel files you will have to use the `readxl` package instead of `readr`.* **Do look at each file in the Jupyter editor and consult the [Data Import Cheatsheet](https://github.com/rstudio/cheatsheets/raw/master/data-import.pdf) to help you choose the correct function and function argument.** \n",
    "\n",
    "Prove to us that you were successful by outputting the head of each data frame once it is read in."
   ]
  },
  {
   "cell_type": "markdown",
   "metadata": {},
   "source": [
    "### Exercise 1.1\n",
    "rubric={autograde:1}\n",
    "\n",
    "Read in file named `penguins.csv` from the `data` directory. Bind the name `penguins_csv` to the data frame."
   ]
  },
  {
   "cell_type": "code",
   "execution_count": null,
   "metadata": {
    "tags": [
     "otter_assign_solution_cell"
    ]
   },
   "outputs": [],
   "source": [
    "# read in file named penguins.csv\n",
    "penguins_csv <- read_csv(\"data/penguins.csv\") # SOLUTION\n",
    "head(penguins_csv)"
   ]
  },
  {
   "cell_type": "code",
   "execution_count": null,
   "id": "59f3e4dc",
   "metadata": {
    "deletable": false,
    "editable": false
   },
   "outputs": [],
   "source": [
    ". = ottr::check(\"tests/ex11.R\")"
   ]
  }
 ],
 "metadata": {
  "celltoolbar": "Create Assignment",
  "kernelspec": {
   "display_name": "R",
   "language": "R",
   "name": "ir"
  },
  "language_info": {
   "codemirror_mode": "r",
   "file_extension": ".r",
   "mimetype": "text/x-r-source",
   "name": "R",
   "pygments_lexer": "r",
   "version": "4.1.0"
  },
  "toc-autonumbering": false
 },
 "nbformat": 4,
 "nbformat_minor": 4
}
